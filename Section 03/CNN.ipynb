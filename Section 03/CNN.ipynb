{
 "cells": [
  {
   "cell_type": "markdown",
   "metadata": {},
   "source": [
    "# Working with CNN's for  Computer Vision \n",
    "\n",
    "This section covers the convolutional neural networks or covnets widely used in computer vision applications. \n"
   ]
  },
  {
   "cell_type": "markdown",
   "metadata": {},
   "source": [
    "## V02 - Download the dataset and making Train and Test sets"
   ]
  },
  {
   "cell_type": "markdown",
   "metadata": {},
   "source": [
    "### Download the images from image-net"
   ]
  },
  {
   "cell_type": "code",
   "execution_count": null,
   "metadata": {},
   "outputs": [],
   "source": [
    "import urllib\n",
    "import cv2\n",
    "import imutils\n",
    "import numpy as np\n",
    "import os\n",
    "\n",
    "pic_num = 0\n",
    "dir_name = 'shoe'\n",
    "wnid = 'n02708093'\n",
    "\n",
    "neg_images_link = 'http://www.image-net.org/api/text/imagenet.synset.geturls?wnid=' + wnid\n",
    "neg_image_urls = urllib.request.urlopen(neg_images_link).read().decode()\n",
    "if not os.path.exists(dir_name):\n",
    "    os.makedirs(dir_name)\n",
    "\n",
    "for i in neg_image_urls.split('\\n'):\n",
    "    try:\n",
    "        print('Downloading ', i)\n",
    "        urllib.request.urlretrieve(i, dir_name + \"/\" + str(pic_num) + \".jpg\")\n",
    "        img = cv2.imread(dir_name + \"/\" + str(pic_num) + \".jpg\", cv2.IMREAD_GRAYSCALE)\n",
    "        resized_image = cv2.resize(img, (1000, 1000))\n",
    "        cv2.imwrite(dir_name + \"/\" + str(pic_num) + \".jpg\", resized_image)\n",
    "        pic_num += 1\n",
    "\n",
    "    except Exception as e:\n",
    "        print(str(e))"
   ]
  },
  {
   "cell_type": "markdown",
   "metadata": {},
   "source": [
    "## Loading the dataset, and making Train and Test sets"
   ]
  },
  {
   "cell_type": "markdown",
   "metadata": {},
   "source": [
    "Here's a script that would load all the downloaded images"
   ]
  },
  {
   "cell_type": "code",
   "execution_count": null,
   "metadata": {},
   "outputs": [],
   "source": [
    "import os\n",
    "import re\n",
    "import numpy as np\n",
    "import matplotlib.pyplot as plt\n",
    "from scipy import ndimage, misc\n",
    "import warnings; warnings.filterwarnings('ignore')\n",
    "\n",
    "image_size = 80\n",
    "\n",
    "all_images = []\n",
    "all_labels = []\n",
    "\n",
    "# mapping = {0: '/remote', 1:'/scissor'}\n",
    "mapping = {0: '/shoe', 1:'/clock'}\n",
    "\n",
    "for k,v in mapping.items():\n",
    "    for root, dirnames, filenames in os.walk(os.path.abspath('') + v):\n",
    "        for filename in filenames:\n",
    "            if re.search(\"\\.(jpg|jpeg|png|bmp|tiff)$\", filename):\n",
    "                filepath = os.path.join(root, filename)\n",
    "                image = ndimage.imread(filepath, mode=\"L\")\n",
    "                image_resized = misc.imresize(image, (image_size, image_size))\n",
    "                all_images.append(image_resized)\n",
    "                all_labels.append(k)"
   ]
  },
  {
   "cell_type": "markdown",
   "metadata": {},
   "source": [
    "### Defining a function to shuffle the entire dataset"
   ]
  },
  {
   "cell_type": "code",
   "execution_count": null,
   "metadata": {},
   "outputs": [],
   "source": [
    "def shuffle_batch(X, y):\n",
    "    rnd_idx = np.random.permutation(len(X))\n",
    "    n_batches = len(X)\n",
    "    batch_idx = list(np.array_split(rnd_idx, 1))\n",
    "    return X[batch_idx], y[batch_idx]"
   ]
  },
  {
   "cell_type": "markdown",
   "metadata": {},
   "source": [
    "### Convert the lists to numpy array"
   ]
  },
  {
   "cell_type": "code",
   "execution_count": null,
   "metadata": {},
   "outputs": [],
   "source": [
    "all_images = np.array(all_images)\n",
    "all_labels = np.array(all_labels)\n",
    "all_images = np.expand_dims(all_images, axis=3)\n",
    "\n",
    "print('Images', all_images.shape)\n",
    "print('Labels', all_labels.shape)"
   ]
  },
  {
   "cell_type": "markdown",
   "metadata": {},
   "source": [
    "### Shuffle entire dataset"
   ]
  },
  {
   "cell_type": "code",
   "execution_count": null,
   "metadata": {},
   "outputs": [],
   "source": [
    "all_images, all_labels = shuffle_batch(all_images, all_labels)"
   ]
  },
  {
   "cell_type": "markdown",
   "metadata": {},
   "source": [
    "### Spliting into Train (80%) and Test (20%) sets"
   ]
  },
  {
   "cell_type": "code",
   "execution_count": null,
   "metadata": {},
   "outputs": [],
   "source": [
    "percent = int(len(all_images) * 0.8)\n",
    "\n",
    "train_images, test_images = all_images[:percent], all_images[percent:]\n",
    "train_labels, test_labels = all_labels[:percent], all_labels[percent:]\n",
    "\n",
    "print('Total', len(all_images))\n",
    "print('Train images', train_images.shape)\n",
    "print('Test images', test_images.shape)\n",
    "print('Train labels', train_labels.shape)\n",
    "print('Test labels', test_labels.shape)"
   ]
  },
  {
   "cell_type": "markdown",
   "metadata": {},
   "source": [
    "# V03 - Dataset Preprocessing"
   ]
  },
  {
   "cell_type": "code",
   "execution_count": null,
   "metadata": {},
   "outputs": [],
   "source": [
    "test_images = test_images.astype('float32') / 255\n",
    "train_images = train_images.astype('float32') / 255"
   ]
  },
  {
   "cell_type": "code",
   "execution_count": null,
   "metadata": {},
   "outputs": [],
   "source": [
    "import cv2\n",
    "\n",
    "def denoise(image):\n",
    "    image = cv2.GaussianBlur(image, (5, 5), 0)\n",
    "    return image\n",
    "\n",
    "def resize(image, size):\n",
    "    image = cv2.resize(image, (size, size))\n",
    "    return image"
   ]
  },
  {
   "cell_type": "code",
   "execution_count": null,
   "metadata": {},
   "outputs": [],
   "source": [
    "index = 10\n",
    "%matplotlib inline\n",
    "image = train_images[index]\n",
    "plt.imshow(np.squeeze(image, axis=(2,)))"
   ]
  },
  {
   "cell_type": "code",
   "execution_count": null,
   "metadata": {},
   "outputs": [],
   "source": [
    "image = train_images[index]\n",
    "image = np.squeeze(image, axis=(2,))\n",
    "\n",
    "plt.imshow(resize(image, 150))\n",
    "# plt.imshow(denoise(image))"
   ]
  },
  {
   "cell_type": "markdown",
   "metadata": {},
   "source": [
    "# V04 - Building CNN Model from scratch"
   ]
  },
  {
   "cell_type": "code",
   "execution_count": null,
   "metadata": {},
   "outputs": [],
   "source": [
    "from tensorflow.keras import layers\n",
    "from tensorflow.keras import models\n",
    "\n",
    "import tensorflow as tf\n",
    "\n",
    "print('tf version', tf.__version__)\n",
    "\n",
    "model = models.Sequential()\n",
    "\n",
    "model.add(layers.Conv2D(64, (3, 3), activation='relu', \n",
    "                        input_shape=(image_size, image_size, 1)))\n",
    "\n",
    "model.add(layers.MaxPooling2D((2, 2)))\n",
    "\n",
    "model.add(layers.Conv2D(64, (3, 3), activation='relu'))\n",
    "\n",
    "model.add(layers.MaxPooling2D((2, 2)))\n",
    "\n",
    "model.add(layers.Conv2D(64, (3, 3), activation='relu'))"
   ]
  },
  {
   "cell_type": "code",
   "execution_count": null,
   "metadata": {},
   "outputs": [],
   "source": [
    "model.summary()"
   ]
  },
  {
   "cell_type": "code",
   "execution_count": null,
   "metadata": {},
   "outputs": [],
   "source": [
    "model.add(layers.Flatten())\n",
    "model.add(layers.Dense(32, activation='relu'))\n",
    "model.add(layers.Dense(1, activation='sigmoid'))"
   ]
  },
  {
   "cell_type": "code",
   "execution_count": null,
   "metadata": {},
   "outputs": [],
   "source": [
    "model.summary()"
   ]
  },
  {
   "cell_type": "markdown",
   "metadata": {},
   "source": [
    "### Compile the model with optimizer, loss function and metrics"
   ]
  },
  {
   "cell_type": "code",
   "execution_count": null,
   "metadata": {},
   "outputs": [],
   "source": [
    "model.compile(optimizer='rmsprop',\n",
    "loss='binary_crossentropy',\n",
    "metrics=['accuracy'])"
   ]
  },
  {
   "cell_type": "markdown",
   "metadata": {},
   "source": [
    "### Training the model"
   ]
  },
  {
   "cell_type": "code",
   "execution_count": null,
   "metadata": {},
   "outputs": [],
   "source": [
    "model.fit(train_images, train_labels, epochs=30)"
   ]
  },
  {
   "cell_type": "code",
   "execution_count": null,
   "metadata": {},
   "outputs": [],
   "source": [
    "test_loss, test_acc = model.evaluate(test_images, test_labels)"
   ]
  },
  {
   "cell_type": "code",
   "execution_count": null,
   "metadata": {},
   "outputs": [],
   "source": [
    "test_loss, test_acc = model.evaluate(train_images, train_labels)"
   ]
  },
  {
   "cell_type": "code",
   "execution_count": null,
   "metadata": {},
   "outputs": [],
   "source": [
    "import time\n",
    "from random import randint\n",
    "\n",
    "for i in range(20):\n",
    "    index = randint(0, len(train_images))\n",
    "    image = train_images[index]\n",
    "    label = train_labels[index]\n",
    "    predicted = 0\n",
    "    if model.predict([[image]])[0][0] >= 0.5:\n",
    "        predicted = 1\n",
    "    print('Actual', label, 'Predicted', predicted, label == predicted)\n"
   ]
  },
  {
   "cell_type": "code",
   "execution_count": null,
   "metadata": {},
   "outputs": [],
   "source": [
    "index = 60\n",
    "\n",
    "image = train_images[index]\n",
    "label = train_labels[index]\n",
    "plt.imshow(np.squeeze(image, axis=(2,)))\n",
    "\n",
    "print('Actual', label)\n",
    "\n",
    "predicted = 0\n",
    "if model.predict([[image]])[0][0] >= 0.5:\n",
    "    predicted = 1\n",
    "\n",
    "print('Predicted', predicted)\n"
   ]
  },
  {
   "cell_type": "code",
   "execution_count": null,
   "metadata": {},
   "outputs": [],
   "source": [
    "train_images.shape"
   ]
  },
  {
   "cell_type": "code",
   "execution_count": null,
   "metadata": {},
   "outputs": [],
   "source": []
  },
  {
   "cell_type": "markdown",
   "metadata": {},
   "source": [
    "# Data Augmentation"
   ]
  },
  {
   "cell_type": "code",
   "execution_count": null,
   "metadata": {},
   "outputs": [],
   "source": [
    "from keras.preprocessing.image import ImageDataGenerator\n",
    "from matplotlib import pyplot\n",
    "from keras import backend as K\n",
    "\n",
    "# datagen = ImageDataGenerator(rotation_range=90)\n",
    "datagen = ImageDataGenerator(horizontal_flip=True, vertical_flip=True)\n",
    "\n",
    "datagen.fit(train_images)\n",
    "\n",
    "rotated_images = []\n",
    "rotated_images_labels = []\n",
    "\n",
    "for X_batch, y_batch in datagen.flow(train_images, train_labels, \n",
    "                                     batch_size=len(train_images), \n",
    "                                     shuffle=False):\n",
    "    rotated_images = X_batch\n",
    "    rotated_images_labels = y_batch\n",
    "    print(len(rotated_images))\n",
    "    break\n"
   ]
  },
  {
   "cell_type": "code",
   "execution_count": null,
   "metadata": {},
   "outputs": [],
   "source": [
    "index = 62\n",
    "%matplotlib inline\n",
    "image = train_images[index]\n",
    "image_rotated = rotated_images[index]\n",
    "plt.imshow(np.squeeze(image, axis=(2,)))"
   ]
  },
  {
   "cell_type": "code",
   "execution_count": null,
   "metadata": {},
   "outputs": [],
   "source": [
    "plt.imshow(np.squeeze(image_rotated, axis=(2,)))"
   ]
  },
  {
   "cell_type": "code",
   "execution_count": null,
   "metadata": {},
   "outputs": [],
   "source": []
  }
 ],
 "metadata": {
  "kernelspec": {
   "display_name": "Python 3",
   "language": "python",
   "name": "python3"
  },
  "language_info": {
   "codemirror_mode": {
    "name": "ipython",
    "version": 3
   },
   "file_extension": ".py",
   "mimetype": "text/x-python",
   "name": "python",
   "nbconvert_exporter": "python",
   "pygments_lexer": "ipython3",
   "version": "3.7.1"
  }
 },
 "nbformat": 4,
 "nbformat_minor": 2
}
