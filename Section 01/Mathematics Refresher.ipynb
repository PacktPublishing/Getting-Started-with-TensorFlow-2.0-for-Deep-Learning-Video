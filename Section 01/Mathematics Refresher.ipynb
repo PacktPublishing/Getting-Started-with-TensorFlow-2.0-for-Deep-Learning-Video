{
 "cells": [
  {
   "cell_type": "markdown",
   "metadata": {},
   "source": [
    "# Mathematics Refresher: Scalers, Vectors, Matrices and Tensor."
   ]
  },
  {
   "cell_type": "markdown",
   "metadata": {},
   "source": [
    "## 1) Scalars (0D tensors)"
   ]
  },
  {
   "cell_type": "markdown",
   "metadata": {},
   "source": [
    "A tensor that contains only one number is called a scalar (or scalar tensor, or 0-dimensional\n",
    "tensor, or 0D tensor). \n",
    "\n",
    "In Numpy, a float32 or float64 number is a scalar tensor (or scalar\n",
    "array). Here’s a Numpy scalar:"
   ]
  },
  {
   "cell_type": "code",
   "execution_count": 43,
   "metadata": {},
   "outputs": [
    {
     "data": {
      "text/plain": [
       "array(12)"
      ]
     },
     "execution_count": 43,
     "metadata": {},
     "output_type": "execute_result"
    }
   ],
   "source": [
    "import numpy as np\n",
    "\n",
    "x = np.array(12)\n",
    "\n",
    "x"
   ]
  },
  {
   "cell_type": "markdown",
   "metadata": {},
   "source": [
    "You can display the number of axes of a Numpy tensor via the ndim attribute; a scalar\n",
    "tensor has 0 axes (ndim == 0). \n",
    "\n",
    "The number of axes of a tensor is also called its rank."
   ]
  },
  {
   "cell_type": "code",
   "execution_count": 44,
   "metadata": {},
   "outputs": [
    {
     "data": {
      "text/plain": [
       "0"
      ]
     },
     "execution_count": 44,
     "metadata": {},
     "output_type": "execute_result"
    }
   ],
   "source": [
    "x.ndim"
   ]
  },
  {
   "cell_type": "markdown",
   "metadata": {},
   "source": [
    "## 2) Vectors (1D tensors)"
   ]
  },
  {
   "cell_type": "markdown",
   "metadata": {},
   "source": [
    "An array of numbers is called a vector, or 1D tensor. A 1D tensor is said to have exactly\n",
    "one axis. Following is a Numpy vector:"
   ]
  },
  {
   "cell_type": "code",
   "execution_count": 45,
   "metadata": {},
   "outputs": [
    {
     "data": {
      "text/plain": [
       "array([12,  3,  6, 14,  7])"
      ]
     },
     "execution_count": 45,
     "metadata": {},
     "output_type": "execute_result"
    }
   ],
   "source": [
    "x = np.array([12, 3, 6, 14, 7])\n",
    "\n",
    "x"
   ]
  },
  {
   "cell_type": "markdown",
   "metadata": {},
   "source": [
    "This vector has five entries and so is called a 5-dimensional vector. Don’t confuse a 5D vector with a 5D tensor! \n",
    "\n",
    "A 5D vector has only one axis and has five dimensions along its axis, whereas a 5D tensor has five axes"
   ]
  },
  {
   "cell_type": "code",
   "execution_count": 46,
   "metadata": {},
   "outputs": [
    {
     "data": {
      "text/plain": [
       "1"
      ]
     },
     "execution_count": 46,
     "metadata": {},
     "output_type": "execute_result"
    }
   ],
   "source": [
    "x.ndim"
   ]
  },
  {
   "cell_type": "markdown",
   "metadata": {},
   "source": [
    "## 3) Matrices (2D tensors)"
   ]
  },
  {
   "cell_type": "markdown",
   "metadata": {},
   "source": [
    "An array of vectors is a matrix, or 2D tensor. A matrix has two axes (often referred to rows and columns). \n",
    "\n",
    "You can visually interpret a matrix as a rectangular grid of numbers. \n",
    "\n",
    "This is a Numpy matrix:"
   ]
  },
  {
   "cell_type": "code",
   "execution_count": 47,
   "metadata": {},
   "outputs": [],
   "source": [
    "x = np.array([[5, 78, 2, 34, 0],\n",
    "              [6, 79, 3, 35, 1],\n",
    "              [7, 80, 4, 36, 2]])"
   ]
  },
  {
   "cell_type": "markdown",
   "metadata": {},
   "source": [
    "The entries from the first axis are called the rows, and the entries from the second axis are called the columns. \n",
    "\n",
    "In the previous example, [5, 78, 2, 34, 0] is the first row of x, and [5, 6, 7] is the first column."
   ]
  },
  {
   "cell_type": "code",
   "execution_count": 48,
   "metadata": {},
   "outputs": [
    {
     "data": {
      "text/plain": [
       "2"
      ]
     },
     "execution_count": 48,
     "metadata": {},
     "output_type": "execute_result"
    }
   ],
   "source": [
    "x.ndim"
   ]
  },
  {
   "cell_type": "markdown",
   "metadata": {},
   "source": [
    "## 4) 3D tensors and higher-dimensional tensors"
   ]
  },
  {
   "cell_type": "markdown",
   "metadata": {},
   "source": [
    "If you pack such matrices in a new array, you obtain a 3D tensor, which you can visually interpret as a cube of numbers. \n",
    "\n",
    "Following is a Numpy 3D tensor:"
   ]
  },
  {
   "cell_type": "code",
   "execution_count": 49,
   "metadata": {},
   "outputs": [],
   "source": [
    "x = np.array( [[[5, 78, 2, 34, 0],\n",
    "                [6, 79, 3, 35, 1],\n",
    "                [7, 80, 4, 36, 2]],\n",
    "                [[5, 78, 2, 34, 0],\n",
    "                [6, 79, 3, 35, 1],\n",
    "                [7, 80, 4, 36, 2]],\n",
    "                [[5, 78, 2, 34, 0],\n",
    "                [6, 79, 3, 35, 1],\n",
    "                [7, 80, 4, 36, 2]]])"
   ]
  },
  {
   "cell_type": "markdown",
   "metadata": {},
   "source": [
    "By packing 3D tensors in an array, you can create a 4D tensor, and so on. \n",
    "\n",
    "In deep learning, you’ll generally manipulate tensors that are 0D to 4D, although you may go up to 5D if you process video data."
   ]
  },
  {
   "cell_type": "code",
   "execution_count": null,
   "metadata": {},
   "outputs": [],
   "source": [
    "x.ndim"
   ]
  },
  {
   "cell_type": "markdown",
   "metadata": {},
   "source": [
    "## Summary: A tensor is defined by three key attributes:\n",
    "\n",
    "\n",
    "### 1) Number of axes (rank)\n",
    "\n",
    "For instance, a 3D tensor has three axes, and a matrix has two axes. This is also called the tensor’s ndim in Python libraries such as Numpy.\n",
    "\n",
    "\n",
    "### 2) Shape \n",
    "\n",
    "This is a tuple of integers that describes how many dimensions the tensor has along each axis. \n",
    "\n",
    "For instance, the previous matrix example has shape (3, 5), and the 3D tensor example has shape (3, 3, 5). \n",
    "\n",
    "A vector has a shape with a single element, such as (5,), whereas a scalar has an empty shape, ().\n",
    "\n",
    "\n",
    "### 3) Data type (usually called dtype in Python libraries)\n",
    "\n",
    "This is the type of the data contained in the tensor; for instance, a tensor’s type could be float32, uint8, float64, and so on."
   ]
  }
 ],
 "metadata": {
  "kernelspec": {
   "display_name": "PY37",
   "language": "python",
   "name": "py37"
  },
  "language_info": {
   "codemirror_mode": {
    "name": "ipython",
    "version": 3
   },
   "file_extension": ".py",
   "mimetype": "text/x-python",
   "name": "python",
   "nbconvert_exporter": "python",
   "pygments_lexer": "ipython3",
   "version": "3.7.1"
  }
 },
 "nbformat": 4,
 "nbformat_minor": 2
}
